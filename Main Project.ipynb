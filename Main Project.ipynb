{
 "cells": [
  {
   "cell_type": "markdown",
   "metadata": {},
   "source": [
    "Hello Hello, just making a commit\n",
    "In WSL! Again!"
   ]
  },
  {
   "cell_type": "code",
   "execution_count": 19,
   "metadata": {},
   "outputs": [
    {
     "name": "stdout",
     "output_type": "stream",
     "text": [
      "   GRE Score  TOEFL Score  University Rating  SOP  LOR   CGPA  Research  \\\n",
      "0        337          118                  4  4.5   4.5  9.65         1   \n",
      "1        324          107                  4  4.0   4.5  8.87         1   \n",
      "2        316          104                  3  3.0   3.5  8.00         1   \n",
      "3        322          110                  3  3.5   2.5  8.67         1   \n",
      "4        314          103                  2  2.0   3.0  8.21         0   \n",
      "\n",
      "   Chance of Admit   \n",
      "0              0.92  \n",
      "1              0.76  \n",
      "2              0.72  \n",
      "3              0.80  \n",
      "4              0.65  \n",
      "GRE Score              int64\n",
      "TOEFL Score            int64\n",
      "University Rating      int64\n",
      "SOP                  float64\n",
      "LOR                  float64\n",
      "CGPA                 float64\n",
      "Research               int64\n",
      "Chance of Admit      float64\n",
      "dtype: object\n",
      "   GRE Score  TOEFL Score  University Rating  SOP  LOR   CGPA  Research\n",
      "0        337          118                  4  4.5   4.5  9.65         1\n",
      "1        324          107                  4  4.0   4.5  8.87         1\n",
      "2        316          104                  3  3.0   3.5  8.00         1\n",
      "3        322          110                  3  3.5   2.5  8.67         1\n",
      "4        314          103                  2  2.0   3.0  8.21         0\n",
      "0    0.92\n",
      "1    0.76\n",
      "2    0.72\n",
      "3    0.80\n",
      "4    0.65\n",
      "Name: Chance of Admit , dtype: float64\n"
     ]
    }
   ],
   "source": [
    "import pandas as pd\n",
    "import numpy as np\n",
    "import matplotlib.pyplot as plt\n",
    "\n",
    "import tensorflow as tf\n",
    "from tensorflow\timport keras\n",
    "from tensorflow.keras.models import Sequential\n",
    "from tensorflow.keras.callbacks import EarlyStopping\n",
    "from tensorflow.keras import layers\n",
    "\n",
    "from sklearn.model_selection import train_test_split\n",
    "from sklearn.preprocessing import StandardScaler\n",
    "from sklearn.preprocessing import Normalizer\n",
    "from sklearn.metrics import r2_score\n",
    "from sklearn.compose import ColumnTransformer\n",
    "from sklearn.preprocessing import StandardScaler\n",
    "\n",
    "data = pd.read_csv('admissions_data.csv')\n",
    "data = data.drop('Serial No.', axis=1)\n",
    "print(data.head())\n",
    "print(data.dtypes)\n",
    "features = data.iloc[:,:-1]\n",
    "labels = data.iloc[:,-1]\n",
    "print(features.head())\n",
    "print(labels.head())\n",
    "\n"
   ]
  },
  {
   "cell_type": "markdown",
   "metadata": {},
   "source": []
  },
  {
   "cell_type": "code",
   "execution_count": 20,
   "metadata": {},
   "outputs": [
    {
     "name": "stdout",
     "output_type": "stream",
     "text": [
      "   GRE Score  TOEFL Score  University Rating  SOP  LOR   CGPA  Research\n",
      "0        337          118                  4  4.5   4.5  9.65         1\n",
      "1        324          107                  4  4.0   4.5  8.87         1\n",
      "2        316          104                  3  3.0   3.5  8.00         1\n",
      "3        322          110                  3  3.5   2.5  8.67         1\n",
      "4        314          103                  2  2.0   3.0  8.21         0\n",
      "Index(['GRE Score', 'TOEFL Score', 'University Rating', 'SOP', 'LOR ', 'CGPA',\n",
      "       'Research'],\n",
      "      dtype='object')\n"
     ]
    }
   ],
   "source": [
    "features = data.iloc[:,:-1]\n",
    "features_columns = features.columns\n",
    "print(features.head())\n",
    "print(features_columns)"
   ]
  },
  {
   "cell_type": "code",
   "execution_count": 21,
   "metadata": {},
   "outputs": [
    {
     "name": "stdout",
     "output_type": "stream",
     "text": [
      "0    0.92\n",
      "1    0.76\n",
      "2    0.72\n",
      "3    0.80\n",
      "4    0.65\n",
      "Name: Chance of Admit , dtype: float64\n"
     ]
    }
   ],
   "source": [
    "labels = data.iloc[:,-1]\n",
    "print(labels.head())"
   ]
  },
  {
   "cell_type": "code",
   "execution_count": 25,
   "metadata": {},
   "outputs": [
    {
     "name": "stdout",
     "output_type": "stream",
     "text": [
      "[[ 1.81923762  1.77886545  0.77558214  1.13735981  1.09894429  1.77680627\n",
      "   0.88640526]\n",
      " [ 0.66714832 -0.03160087  0.77558214  0.63231549  1.09894429  0.48585943\n",
      "   0.88640526]\n",
      " [-0.0418297  -0.52536441 -0.09979274 -0.37777315  0.01730621 -0.95404281\n",
      "   0.88640526]\n",
      " [ 0.48990382  0.46216267 -0.09979274  0.12727117 -1.06433187  0.15484742\n",
      "   0.88640526]\n",
      " [-0.21907421 -0.68995225 -0.97516761 -1.3878618  -0.52351283 -0.6064802\n",
      "  -1.12815215]]\n"
     ]
    }
   ],
   "source": [
    "ct = ColumnTransformer([('numeric', StandardScaler(), features_columns)], remainder='passthrough')\n",
    "features_scaled = ct.fit_transform(features)\n",
    "print(features_scaled[:5])"
   ]
  },
  {
   "cell_type": "code",
   "execution_count": 26,
   "metadata": {},
   "outputs": [],
   "source": [
    "features_train, features_test, labels_train, labels_test = train_test_split(features_scaled, labels, random_state=4)"
   ]
  }
 ],
 "metadata": {
  "kernelspec": {
   "display_name": "Python 3",
   "language": "python",
   "name": "python3"
  },
  "language_info": {
   "codemirror_mode": {
    "name": "ipython",
    "version": 3
   },
   "file_extension": ".py",
   "mimetype": "text/x-python",
   "name": "python",
   "nbconvert_exporter": "python",
   "pygments_lexer": "ipython3",
   "version": "3.11.7"
  }
 },
 "nbformat": 4,
 "nbformat_minor": 2
}
