{
 "cells": [
  {
   "cell_type": "markdown",
   "metadata": {},
   "source": [
    "Basic deep net training using the Graduate Admissions 2 data set on Kaggle\n",
    "\n",
    "Import Libraries and check the version of TensorFlow"
   ]
  },
  {
   "cell_type": "code",
   "execution_count": 4,
   "metadata": {},
   "outputs": [
    {
     "name": "stdout",
     "output_type": "stream",
     "text": [
      "2.15.0\n"
     ]
    }
   ],
   "source": [
    "import pandas as pd\n",
    "import numpy as np\n",
    "import matplotlib.pyplot as plt\n",
    "\n",
    "import tensorflow as tf\n",
    "from tensorflow\timport keras\n",
    "from tensorflow.keras.models import Sequential\n",
    "from tensorflow.keras.callbacks import EarlyStopping\n",
    "from tensorflow.keras.layers import Dense\n",
    "from tensorflow.keras.layers import InputLayer\n",
    "from tensorflow.keras.layers import Dropout\n",
    "from tensorflow.keras.optimizers import Adam\n",
    "\n",
    "\n",
    "\n",
    "\n",
    "from sklearn.model_selection import train_test_split\n",
    "from sklearn.preprocessing import StandardScaler\n",
    "from sklearn.preprocessing import Normalizer\n",
    "from sklearn.metrics import r2_score\n",
    "from sklearn.compose import ColumnTransformer\n",
    "from sklearn.preprocessing import StandardScaler\n",
    "\n",
    "print(tf.__version__)\n"
   ]
  },
  {
   "cell_type": "code",
   "execution_count": 5,
   "metadata": {},
   "outputs": [
    {
     "name": "stdout",
     "output_type": "stream",
     "text": [
      "   GRE Score  TOEFL Score  University Rating  SOP  LOR   CGPA  Research  \\\n",
      "0        337          118                  4  4.5   4.5  9.65         1   \n",
      "1        324          107                  4  4.0   4.5  8.87         1   \n",
      "2        316          104                  3  3.0   3.5  8.00         1   \n",
      "3        322          110                  3  3.5   2.5  8.67         1   \n",
      "4        314          103                  2  2.0   3.0  8.21         0   \n",
      "\n",
      "   Chance of Admit   \n",
      "0              0.92  \n",
      "1              0.76  \n",
      "2              0.72  \n",
      "3              0.80  \n",
      "4              0.65  \n",
      "GRE Score              int64\n",
      "TOEFL Score            int64\n",
      "University Rating      int64\n",
      "SOP                  float64\n",
      "LOR                  float64\n",
      "CGPA                 float64\n",
      "Research               int64\n",
      "Chance of Admit      float64\n",
      "dtype: object\n",
      "   GRE Score  TOEFL Score  University Rating  SOP  LOR   CGPA  Research\n",
      "0        337          118                  4  4.5   4.5  9.65         1\n",
      "1        324          107                  4  4.0   4.5  8.87         1\n",
      "2        316          104                  3  3.0   3.5  8.00         1\n",
      "3        322          110                  3  3.5   2.5  8.67         1\n",
      "4        314          103                  2  2.0   3.0  8.21         0\n",
      "0    0.92\n",
      "1    0.76\n",
      "2    0.72\n",
      "3    0.80\n",
      "4    0.65\n",
      "Name: Chance of Admit , dtype: float64\n"
     ]
    }
   ],
   "source": [
    "data = pd.read_csv('admissions_data.csv')\n",
    "data = data.drop('Serial No.', axis=1)\n",
    "print(data.head())\n",
    "print(data.dtypes)\n",
    "features = data.iloc[:,:-1]\n",
    "labels = data.iloc[:,-1]\n",
    "print(features.head())\n",
    "print(labels.head())\n"
   ]
  },
  {
   "cell_type": "markdown",
   "metadata": {},
   "source": []
  },
  {
   "cell_type": "code",
   "execution_count": 6,
   "metadata": {},
   "outputs": [
    {
     "name": "stdout",
     "output_type": "stream",
     "text": [
      "   GRE Score  TOEFL Score  University Rating  SOP  LOR   CGPA  Research\n",
      "0        337          118                  4  4.5   4.5  9.65         1\n",
      "1        324          107                  4  4.0   4.5  8.87         1\n",
      "2        316          104                  3  3.0   3.5  8.00         1\n",
      "3        322          110                  3  3.5   2.5  8.67         1\n",
      "4        314          103                  2  2.0   3.0  8.21         0\n",
      "Index(['GRE Score', 'TOEFL Score', 'University Rating', 'SOP', 'LOR ', 'CGPA'], dtype='object')\n"
     ]
    }
   ],
   "source": [
    "features = data.iloc[:,:-1]\n",
    "features_numerical = features.drop('Research', axis=1)\n",
    "features_columns = features_numerical.columns\n",
    "print(features.head())\n",
    "print(features_columns)"
   ]
  },
  {
   "cell_type": "code",
   "execution_count": 7,
   "metadata": {},
   "outputs": [
    {
     "name": "stdout",
     "output_type": "stream",
     "text": [
      "0    0.92\n",
      "1    0.76\n",
      "2    0.72\n",
      "3    0.80\n",
      "4    0.65\n",
      "Name: Chance of Admit , dtype: float64\n"
     ]
    }
   ],
   "source": [
    "labels = data.iloc[:,-1]\n",
    "print(labels.head())"
   ]
  },
  {
   "cell_type": "code",
   "execution_count": 8,
   "metadata": {},
   "outputs": [],
   "source": [
    "features_train, features_test, labels_train, labels_test = train_test_split(features, labels, random_state=4)"
   ]
  },
  {
   "cell_type": "code",
   "execution_count": 9,
   "metadata": {},
   "outputs": [
    {
     "name": "stdout",
     "output_type": "stream",
     "text": [
      "[[ 0.35791216  0.84271606 -0.94792265  0.17769404  0.05044464  0.39633165\n",
      "   1.        ]\n",
      " [ 1.61060472  2.01253607  1.72479159  1.18731924  1.6718794   1.65487784\n",
      "   1.        ]\n",
      " [-0.4473902  -0.4942211  -0.94792265 -0.83193117  0.05044464 -0.1004629\n",
      "   0.        ]\n",
      " [ 0.35791216  0.50848177  1.72479159  0.68250664  0.59092289  1.20776274\n",
      "   1.        ]\n",
      " [ 0.35791216  0.50848177  1.72479159  1.69213184  1.13140114  1.12496365\n",
      "   1.        ]]\n",
      "[[ 0.98425844  1.17695035 -0.0570179  -0.32711857 -0.49003362  0.79376729\n",
      "   0.        ]\n",
      " [ 0.4473902   0.84271606  1.72479159  1.69213184  1.6718794   0.86000656\n",
      "   1.        ]\n",
      " [-0.71582432  0.17424748 -0.0570179   0.17769404  0.05044464 -0.53101817\n",
      "   0.        ]\n",
      " [ 1.3421706   1.51118464  1.72479159  0.68250664  0.59092289  1.19120293\n",
      "   1.        ]\n",
      " [ 1.43164864  1.84541893  1.72479159  1.69213184  1.6718794   1.82047602\n",
      "   1.        ]]\n"
     ]
    }
   ],
   "source": [
    "ct = ColumnTransformer([('numeric', StandardScaler(), features_columns)], remainder='passthrough')\n",
    "features_train_scaled = ct.fit_transform(features_train)\n",
    "features_test_scaled = ct.transform(features_test)\n",
    "print(features_train_scaled[:5])\n",
    "print(features_test_scaled[:5])"
   ]
  },
  {
   "cell_type": "markdown",
   "metadata": {},
   "source": [
    "Ok let's build a deep net"
   ]
  },
  {
   "cell_type": "code",
   "execution_count": 10,
   "metadata": {},
   "outputs": [
    {
     "name": "stderr",
     "output_type": "stream",
     "text": [
      "2024-01-19 15:52:15.825548: I external/local_xla/xla/stream_executor/cuda/cuda_executor.cc:887] could not open file to read NUMA node: /sys/bus/pci/devices/0000:09:00.0/numa_node\n",
      "Your kernel may have been built without NUMA support.\n"
     ]
    },
    {
     "name": "stdout",
     "output_type": "stream",
     "text": [
      "<bound method Model.summary of <keras.src.engine.sequential.Sequential object at 0x7f4731500210>>\n"
     ]
    },
    {
     "name": "stderr",
     "output_type": "stream",
     "text": [
      "2024-01-19 15:52:15.927512: I external/local_xla/xla/stream_executor/cuda/cuda_executor.cc:887] could not open file to read NUMA node: /sys/bus/pci/devices/0000:09:00.0/numa_node\n",
      "Your kernel may have been built without NUMA support.\n",
      "2024-01-19 15:52:15.927570: I external/local_xla/xla/stream_executor/cuda/cuda_executor.cc:887] could not open file to read NUMA node: /sys/bus/pci/devices/0000:09:00.0/numa_node\n",
      "Your kernel may have been built without NUMA support.\n",
      "2024-01-19 15:52:15.929506: I external/local_xla/xla/stream_executor/cuda/cuda_executor.cc:887] could not open file to read NUMA node: /sys/bus/pci/devices/0000:09:00.0/numa_node\n",
      "Your kernel may have been built without NUMA support.\n",
      "2024-01-19 15:52:15.929555: I external/local_xla/xla/stream_executor/cuda/cuda_executor.cc:887] could not open file to read NUMA node: /sys/bus/pci/devices/0000:09:00.0/numa_node\n",
      "Your kernel may have been built without NUMA support.\n",
      "2024-01-19 15:52:15.929588: I external/local_xla/xla/stream_executor/cuda/cuda_executor.cc:887] could not open file to read NUMA node: /sys/bus/pci/devices/0000:09:00.0/numa_node\n",
      "Your kernel may have been built without NUMA support.\n",
      "2024-01-19 15:52:16.206536: I external/local_xla/xla/stream_executor/cuda/cuda_executor.cc:887] could not open file to read NUMA node: /sys/bus/pci/devices/0000:09:00.0/numa_node\n",
      "Your kernel may have been built without NUMA support.\n",
      "2024-01-19 15:52:16.206597: I external/local_xla/xla/stream_executor/cuda/cuda_executor.cc:887] could not open file to read NUMA node: /sys/bus/pci/devices/0000:09:00.0/numa_node\n",
      "Your kernel may have been built without NUMA support.\n",
      "2024-01-19 15:52:16.206604: I tensorflow/core/common_runtime/gpu/gpu_device.cc:2022] Could not identify NUMA node of platform GPU id 0, defaulting to 0.  Your kernel may not have been built with NUMA support.\n",
      "2024-01-19 15:52:16.206649: I external/local_xla/xla/stream_executor/cuda/cuda_executor.cc:887] could not open file to read NUMA node: /sys/bus/pci/devices/0000:09:00.0/numa_node\n",
      "Your kernel may have been built without NUMA support.\n",
      "2024-01-19 15:52:16.206666: I tensorflow/core/common_runtime/gpu/gpu_device.cc:1929] Created device /job:localhost/replica:0/task:0/device:GPU:0 with 7551 MB memory:  -> device: 0, name: NVIDIA GeForce RTX 3080, pci bus id: 0000:09:00.0, compute capability: 8.6\n"
     ]
    }
   ],
   "source": [
    "admission_predictor = Sequential()\n",
    "admission_predictor.add(InputLayer(input_shape = (features.shape[1])))\n",
    "admission_predictor.add(Dense(units=64, activation='relu'))\n",
    "admission_predictor.add(Dropout(0.2))\n",
    "admission_predictor.add(Dense(units=32, activation='relu'))\n",
    "admission_predictor.add(Dropout(0.2))\n",
    "admission_predictor.add(Dense(units=1))\n",
    "print(admission_predictor.summary)\n"
   ]
  },
  {
   "cell_type": "code",
   "execution_count": 11,
   "metadata": {},
   "outputs": [
    {
     "name": "stdout",
     "output_type": "stream",
     "text": [
      "Epoch 1/40\n"
     ]
    },
    {
     "name": "stderr",
     "output_type": "stream",
     "text": [
      "2024-01-19 15:52:30.008528: I external/local_tsl/tsl/platform/default/subprocess.cc:304] Start cannot spawn child process: Permission denied\n",
      "2024-01-19 15:52:30.724413: I external/local_xla/xla/service/service.cc:168] XLA service 0x7f463d522490 initialized for platform CUDA (this does not guarantee that XLA will be used). Devices:\n",
      "2024-01-19 15:52:30.724452: I external/local_xla/xla/service/service.cc:176]   StreamExecutor device (0): NVIDIA GeForce RTX 3080, Compute Capability 8.6\n",
      "2024-01-19 15:52:30.734818: I tensorflow/compiler/mlir/tensorflow/utils/dump_mlir_util.cc:269] disabling MLIR crash reproducer, set env var `MLIR_CRASH_REPRODUCER_DIRECTORY` to enable.\n",
      "2024-01-19 15:52:30.755431: I external/local_xla/xla/stream_executor/cuda/cuda_dnn.cc:454] Loaded cuDNN version 8904\n",
      "WARNING: All log messages before absl::InitializeLog() is called are written to STDERR\n",
      "I0000 00:00:1705708350.819378    2802 device_compiler.h:186] Compiled cluster using XLA!  This line is logged at most once for the lifetime of the process.\n"
     ]
    },
    {
     "name": "stdout",
     "output_type": "stream",
     "text": [
      "75/75 [==============================] - 2s 5ms/step - loss: 0.1350 - mae: 0.2519\n",
      "Epoch 2/40\n",
      "75/75 [==============================] - 0s 4ms/step - loss: 0.0259 - mae: 0.1281\n",
      "Epoch 3/40\n",
      "75/75 [==============================] - 0s 3ms/step - loss: 0.0144 - mae: 0.0966\n",
      "Epoch 4/40\n",
      "75/75 [==============================] - 0s 3ms/step - loss: 0.0111 - mae: 0.0843\n",
      "Epoch 5/40\n",
      "75/75 [==============================] - 0s 3ms/step - loss: 0.0070 - mae: 0.0649\n",
      "Epoch 6/40\n",
      "75/75 [==============================] - 0s 3ms/step - loss: 0.0074 - mae: 0.0686\n",
      "Epoch 7/40\n",
      "75/75 [==============================] - 0s 3ms/step - loss: 0.0069 - mae: 0.0636\n",
      "Epoch 8/40\n",
      "75/75 [==============================] - 0s 3ms/step - loss: 0.0067 - mae: 0.0640\n",
      "Epoch 9/40\n",
      "75/75 [==============================] - 0s 3ms/step - loss: 0.0050 - mae: 0.0532\n",
      "Epoch 10/40\n",
      "75/75 [==============================] - 0s 2ms/step - loss: 0.0054 - mae: 0.0564\n",
      "Epoch 11/40\n",
      "75/75 [==============================] - 0s 3ms/step - loss: 0.0054 - mae: 0.0569\n",
      "Epoch 12/40\n",
      "75/75 [==============================] - 0s 3ms/step - loss: 0.0054 - mae: 0.0570\n",
      "Epoch 13/40\n",
      "75/75 [==============================] - 0s 3ms/step - loss: 0.0059 - mae: 0.0599\n",
      "Epoch 14/40\n",
      "75/75 [==============================] - 0s 3ms/step - loss: 0.0053 - mae: 0.0548\n",
      "Epoch 15/40\n",
      "75/75 [==============================] - 0s 3ms/step - loss: 0.0054 - mae: 0.0559\n",
      "Epoch 16/40\n",
      "75/75 [==============================] - 0s 3ms/step - loss: 0.0053 - mae: 0.0562\n",
      "Epoch 17/40\n",
      "75/75 [==============================] - 0s 3ms/step - loss: 0.0063 - mae: 0.0604\n",
      "Epoch 18/40\n",
      "75/75 [==============================] - 0s 2ms/step - loss: 0.0055 - mae: 0.0561\n",
      "Epoch 19/40\n",
      "75/75 [==============================] - 0s 3ms/step - loss: 0.0052 - mae: 0.0544\n",
      "Epoch 20/40\n",
      "75/75 [==============================] - 0s 3ms/step - loss: 0.0049 - mae: 0.0524\n",
      "Epoch 21/40\n",
      "75/75 [==============================] - 0s 3ms/step - loss: 0.0054 - mae: 0.0570\n",
      "Epoch 22/40\n",
      "75/75 [==============================] - 0s 3ms/step - loss: 0.0054 - mae: 0.0558\n",
      "Epoch 23/40\n",
      "75/75 [==============================] - 0s 2ms/step - loss: 0.0049 - mae: 0.0542\n",
      "Epoch 24/40\n",
      "75/75 [==============================] - 0s 3ms/step - loss: 0.0050 - mae: 0.0540\n",
      "Epoch 25/40\n",
      "75/75 [==============================] - 0s 3ms/step - loss: 0.0050 - mae: 0.0522\n",
      "Epoch 26/40\n",
      "75/75 [==============================] - 0s 3ms/step - loss: 0.0052 - mae: 0.0536\n",
      "Epoch 27/40\n",
      "75/75 [==============================] - 0s 3ms/step - loss: 0.0050 - mae: 0.0528\n",
      "Epoch 28/40\n",
      "75/75 [==============================] - 0s 3ms/step - loss: 0.0046 - mae: 0.0518\n",
      "Epoch 29/40\n",
      "75/75 [==============================] - 0s 3ms/step - loss: 0.0048 - mae: 0.0535\n",
      "Epoch 30/40\n",
      "75/75 [==============================] - 0s 3ms/step - loss: 0.0057 - mae: 0.0581\n",
      "Epoch 31/40\n",
      "75/75 [==============================] - 0s 3ms/step - loss: 0.0058 - mae: 0.0584\n",
      "Epoch 32/40\n",
      "75/75 [==============================] - 0s 3ms/step - loss: 0.0054 - mae: 0.0551\n",
      "Epoch 33/40\n",
      "75/75 [==============================] - 0s 3ms/step - loss: 0.0049 - mae: 0.0537\n",
      "Epoch 34/40\n",
      "75/75 [==============================] - 0s 3ms/step - loss: 0.0055 - mae: 0.0573\n",
      "Epoch 35/40\n",
      "75/75 [==============================] - 0s 3ms/step - loss: 0.0052 - mae: 0.0535\n",
      "Epoch 36/40\n",
      "75/75 [==============================] - 0s 3ms/step - loss: 0.0055 - mae: 0.0558\n",
      "Epoch 37/40\n",
      "75/75 [==============================] - 0s 3ms/step - loss: 0.0050 - mae: 0.0528\n",
      "Epoch 38/40\n",
      "75/75 [==============================] - 0s 2ms/step - loss: 0.0050 - mae: 0.0538\n",
      "Epoch 39/40\n",
      "75/75 [==============================] - 0s 3ms/step - loss: 0.0051 - mae: 0.0529\n",
      "Epoch 40/40\n",
      "75/75 [==============================] - 0s 3ms/step - loss: 0.0054 - mae: 0.0560\n",
      "4/4 [==============================] - 0s 1ms/step\n",
      "0.003975815139710903 0.04599572718143463 0.8001476230670473\n"
     ]
    }
   ],
   "source": [
    "adam_optimizer = Adam(learning_rate = 0.01)\n",
    "admission_predictor.compile(loss='mse', metrics='mae', optimizer = adam_optimizer)\n",
    "admission_predictor.fit(features_train_scaled, labels_train, epochs=40, batch_size = 5, verbose = 1)\n",
    "res_mse, res_mae = admission_predictor.evaluate(features_test_scaled, labels_test, verbose=0)\n",
    "predictions = admission_predictor.predict(features_test_scaled)\n",
    "r2 = r2_score(labels_test, predictions)\n",
    "print(res_mse, res_mae, r2)"
   ]
  }
 ],
 "metadata": {
  "kernelspec": {
   "display_name": "Python 3",
   "language": "python",
   "name": "python3"
  },
  "language_info": {
   "codemirror_mode": {
    "name": "ipython",
    "version": 3
   },
   "file_extension": ".py",
   "mimetype": "text/x-python",
   "name": "python",
   "nbconvert_exporter": "python",
   "pygments_lexer": "ipython3",
   "version": "3.11.7"
  }
 },
 "nbformat": 4,
 "nbformat_minor": 2
}
